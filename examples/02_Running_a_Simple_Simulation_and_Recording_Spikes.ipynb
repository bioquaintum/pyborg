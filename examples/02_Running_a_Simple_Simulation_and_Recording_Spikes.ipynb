{
 "cells": [
  {
   "cell_type": "markdown",
   "metadata": {},
   "source": [
    "# Running a Simple Simulation and Recording Spikes\n",
    "\n",
    "**Objective:** This notebook demonstrates how to take an organoid created with `pybrainorg` (as in Notebook 01), set up a simulation environment, run a basic simulation, and record/visualize neuronal spikes.\n",
    "\n",
    "**Key `pybrainorg` components used:**\n",
    "- `pybrainorg.organoid.Organoid`\n",
    "- `pybrainorg.core.neuron_models`\n",
    "- `pybrainorg.organoid.spatial`\n",
    "- `pybrainorg.simulation.Simulator`: The class to orchestrate simulations.\n",
    "- `pybrainorg.electrophysiology.brian_monitors`: Helper functions to set up monitors.\n",
    "- `pybrainorg.visualization.spike_plotter`: For plotting raster plots."
   ]
  },
  {
   "cell_type": "markdown",
   "metadata": {},
   "source": [
    "## 1. Imports and Setup\n",
    "\n",
    "Import necessary modules from `brian2`, `pybrainorg`, and `matplotlib`."
   ]
  },
  {
   "cell_type": "code",
   "execution_count": null,
   "metadata": {},
   "outputs": [],
   "source": [
    "import brian2 as b2\n",
    "import numpy as np\n",
    "import matplotlib.pyplot as plt\n",
    "\n",
    "from pybrainorg.organoid.organoid import Organoid\n",
    "from pybrainorg.core import neuron_models\n",
    "from pybrainorg.organoid import spatial\n",
    "from pybrainorg.simulation.simulator import Simulator\n",
    "from pybrainorg.electrophysiology import brian_monitors # For monitor setup functions\n",
    "from pybrainorg.visualization import spike_plotter # For plotting\n",
    "\n",
    "b2.prefs.codegen.target = 'numpy'\n",
    "b2.seed(123) # Use a different seed or same for direct comparison\n",
    "np.random.seed(123)"
   ]
  },
  {
   "cell_type": "markdown",
   "metadata": {},
   "source": [
    "## 2. Create an Organoid\n",
    "\n",
    "We'll recreate a simple organoid similar to Notebook 01. This time, we'll prepare it for some activity by setting an initial tonic current or ensuring the initial Vm is close to threshold for some neurons."
   ]
  },
  {
   "cell_type": "code",
   "execution_count": null,
   "metadata": {},
   "outputs": [],
   "source": [
    "simple_organoid = Organoid(name=\"SimOrganoid\")\n",
    "\n",
    "num_neurons = 50\n",
    "lif_params_active = {\n",
    "    'tau_m': 15*b2.ms,\n",
    "    'v_rest': -70*b2.mV,\n",
    "    'v_reset': -70*b2.mV,\n",
    "    'v_thresh': -55*b2.mV,\n",
    "    'R_m': 150*b2.Mohm,\n",
    "    'I_tonic': 0.11*b2.nA, # A small tonic current to make them somewhat active\n",
    "    'refractory_period': 3*b2.ms\n",
    "}\n",
    "\n",
    "neuron_positions = spatial.random_positions_in_cube(\n",
    "    N=num_neurons, \n",
    "    side_length=100*b2.um\n",
    ")\n",
    "\n",
    "ng = simple_organoid.add_neurons(\n",
    "    name=\"active_lif_neurons\",\n",
    "    num_neurons=num_neurons,\n",
    "    model_name=\"LIFNeuron\",\n",
    "    model_params=lif_params_active,\n",
    "    positions=neuron_positions,\n",
    "    # Set slightly varied initial Vm to desynchronize initial spikes if I_tonic is high\n",
    "    initial_values={'v': '-70*mV + rand()*5*mV'}\n",
    ")\n",
    "\n",
    "print(f\"Created organoid: {simple_organoid} with neuron group: {ng.name}\")"
   ]
  },
  {
   "cell_type": "markdown",
   "metadata": {},
   "source": [
    "## 3. Instantiate the Simulator\n",
    "\n",
    "Create a `Simulator` instance, passing our organoid to it. We can also specify a `brian2_dt` for the simulation if needed (otherwise, Brian2's default is used)."
   ]
  },
  {
   "cell_type": "code",
   "execution_count": null,
   "metadata": {},
   "outputs": [],
   "source": [
    "simulation_dt = 0.1*b2.ms\n",
    "my_simulator = Simulator(organoid=simple_organoid, brian2_dt=simulation_dt)\n",
    "print(my_simulator)"
   ]
  },
  {
   "cell_type": "markdown",
   "metadata": {},
   "source": [
    "## 4. Add Monitors for Recording\n",
    "\n",
    "We need to tell the simulator what data to record. We'll add a `SpikeMonitor` to record all spikes from our neuron population and a `StateMonitor` to record the membrane potential (Vm) of a few selected neurons."
   ]
  },
  {
   "cell_type": "code",
   "execution_count": null,
   "metadata": {},
   "outputs": [],
   "source": [
    "# Add a SpikeMonitor\n",
    "# The monitor_name is how we will retrieve its data later.\n",
    "# target_group_name is the name we gave to our NeuronGroup in the Organoid.\n",
    "spike_mon = my_simulator.add_recording(\n",
    "    monitor_name=\"all_spikes\",\n",
    "    monitor_type=\"spike\",\n",
    "    target_group_name=\"active_lif_neurons\",\n",
    "    record=True # Record from all neurons in the group\n",
    ")\n",
    "print(f\"Added SpikeMonitor: {spike_mon.name}\")\n",
    "\n",
    "# Add a StateMonitor for Vm of first 3 neurons\n",
    "state_mon_vm = my_simulator.add_recording(\n",
    "    monitor_name=\"vm_traces_subset\",\n",
    "    monitor_type=\"state\",\n",
    "    target_group_name=\"active_lif_neurons\",\n",
    "    variables='v', # Variable to record (must exist in neuron model)\n",
    "    record=[0, 1, 2], # Record Vm for neurons with index 0, 1, and 2\n",
    "    dt=0.5*b2.ms # Optional: record Vm at a specific dt (can be > simulation_dt)\n",
    ")\n",
    "print(f\"Added StateMonitor for Vm: {state_mon_vm.name}\")\n",
    "\n",
    "print(f\"Simulator monitors: {my_simulator.monitors.keys()}\")"
   ]
  },
  {
   "cell_type": "markdown",
   "metadata": {},
   "source": [
    "## 5. Run the Simulation\n",
    "\n",
    "Now we can run the simulation for a specified duration. The `Simulator` will build the Brian2 `Network` internally if it hasn't been built yet."
   ]
  },
  {
   "cell_type": "code",
   "execution_count": null,
   "metadata": {},
   "outputs": [],
   "source": [
    "simulation_duration = 200*b2.ms\n",
    "\n",
    "print(f\"Starting simulation for {simulation_duration}...\")\n",
    "my_simulator.run(simulation_duration, report='text', report_period=50*b2.ms)\n",
    "print(\"Simulation finished.\")"
   ]
  },
  {
   "cell_type": "markdown",
   "metadata": {},
   "source": [
    "## 6. Retrieve and Visualize Recorded Data\n",
    "\n",
    "After the simulation, we can get the data from our monitors using the names we assigned."
   ]
  },
  {
   "cell_type": "markdown",
   "metadata": {},
   "source": [
    "### 6.1. Spike Data (Raster Plot)"
   ]
  },
  {
   "cell_type": "code",
   "execution_count": null,
   "metadata": {},
   "outputs": [],
   "source": [
    "recorded_spikes = my_simulator.get_data(\"all_spikes\")\n",
    "\n",
    "print(f\"Number of spikes recorded: {len(recorded_spikes.i)}\")\n",
    "if len(recorded_spikes.i) > 0:\n",
    "    print(f\"Example spike indices: {recorded_spikes.i[:5]}\")\n",
    "    print(f\"Example spike times: {recorded_spikes.t[:5]}\")\n",
    "\n",
    "    fig_raster, ax_raster = plt.subplots(figsize=(12, 5))\n",
    "    spike_plotter.plot_raster(\n",
    "        spike_indices=recorded_spikes.i,\n",
    "        spike_times=recorded_spikes.t,\n",
    "        duration=simulation_duration,\n",
    "        ax=ax_raster,\n",
    "        title=\"Spike Raster Plot of LIF Neurons\"\n",
    "    )\n",
    "    plt.tight_layout()\n",
    "    plt.show()\n",
    "else:\n",
    "    print(\"No spikes were recorded.\")"
   ]
  },
  {
   "cell_type": "markdown",
   "metadata": {},
   "source": [
    "### 6.2. Membrane Potential (Vm) Traces"
   ]
  },
  {
   "cell_type": "code",
   "execution_count": null,
   "metadata": {},
   "outputs": [],
   "source": [
    "recorded_vm = my_simulator.get_data(\"vm_traces_subset\")\n",
    "\n",
    "print(f\"Shape of recorded Vm data (neurons, timepoints): {recorded_vm.v.shape}\")\n",
    "print(f\"Time points for Vm: {recorded_vm.t[:5]} ...\")\n",
    "\n",
    "fig_vm, ax_vm = plt.subplots(figsize=(12, 5))\n",
    "spike_plotter.plot_vm_traces(\n",
    "    state_monitor=recorded_vm,\n",
    "    # neuron_indices=None, # plot_vm_traces will plot all recorded if few, here we recorded 3\n",
    "    ax=ax_vm,\n",
    "    title=\"Membrane Potential (Vm) of Selected Neurons\"\n",
    ")\n",
    "plt.tight_layout()\n",
    "plt.show()"
   ]
  },
  {
   "cell_type": "markdown",
   "metadata": {},
   "source": [
    "## 7. Summary\n",
    "\n",
    "In this notebook, we have:\n",
    "1. Created a `pybrainorg.Organoid` with a population of LIF neurons configured to be active.\n",
    "2. Instantiated a `pybrainorg.simulation.Simulator`.\n",
    "3. Added a `SpikeMonitor` and a `StateMonitor` to record activity.\n",
    "4. Executed a simulation for a defined duration.\n",
    "5. Retrieved the recorded spike and Vm data.\n",
    "6. Visualized the spikes using a raster plot and Vm traces using `pybrainorg.visualization.spike_plotter`.\n",
    "\n",
    "This forms the basic workflow for setting up and running simulations with `pybrainorg`."
   ]
  }
 ],
 "metadata": {
  "kernelspec": {
   "display_name": "Python 3 (ipykernel)",
   "language": "python",
   "name": "python3"
  },
  "language_info": {
   "codemirror_mode": {
    "name": "ipython",
    "version": 3
   },
   "file_extension": ".py",
   "mimetype": "text/x-python",
   "name": "python",
   "nbconvert_exporter": "python",
   "pygments_lexer": "ipython3",
   "version": "3.9.7"
  }
 },
 "nbformat": 4,
 "nbformat_minor": 5
}
