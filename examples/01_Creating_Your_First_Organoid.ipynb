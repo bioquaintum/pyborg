{
 "cells": [
  {
   "cell_type": "markdown",
   "metadata": {},
   "source": [
    "# Creating Your First Organoid with pybrainorg\n",
    "\n",
    "**Objective:** This notebook introduces the fundamental steps to create a simple brain organoid using the `pybrainorg` library. We will define a neuronal population, assign spatial positions, and briefly touch upon synaptic connections.\n",
    "\n",
    "**Key `pybrainorg` components used:**\n",
    "- `pybrainorg.organoid.Organoid`: The main class for representing an organoid.\n",
    "- `pybrainorg.core.neuron_models`: Predefined neuron models (e.g., LIFNeuron).\n",
    "- `pybrainorg.organoid.spatial`: Functions for generating neuron positions."
   ]
  },
  {
   "cell_type": "markdown",
   "metadata": {},
   "source": [
    "## 1. Imports and Setup\n",
    "\n",
    "First, let's import the necessary modules from `brian2` and `pybrainorg`. We also import `matplotlib` for visualization."
   ]
  },
  {
   "cell_type": "code",
   "execution_count": null,
   "metadata": {},
   "outputs": [],
   "source": [
    "import brian2 as b2\n",
    "import numpy as np\n",
    "import matplotlib.pyplot as plt\n",
    "from mpl_toolkits.mplot3d import Axes3D # For 3D plotting\n",
    "\n",
    "# Assuming pybrainorg is installed or accessible in the Python path\n",
    "from pybrainorg.organoid.organoid import Organoid\n",
    "from pybrainorg.core import neuron_models\n",
    "from pybrainorg.organoid import spatial\n",
    "\n",
    "# Set Brian2 preferences for reproducibility (optional, but good practice)\n",
    "b2.prefs.codegen.target = 'numpy' # Use numpy backend for simplicity in examples\n",
    "b2.seed(42) # For reproducible random number generation\n",
    "np.random.seed(42)"
   ]
  },
  {
   "cell_type": "markdown",
   "metadata": {},
   "source": [
    "## 2. Define Neuron Model Parameters\n",
    "\n",
    "We'll start by selecting a neuron model from `pybrainorg.core.neuron_models`. For this example, we'll use the Leaky Integrate-and-Fire (LIF) model. We can customize its parameters or use the defaults."
   ]
  },
  {
   "cell_type": "code",
   "execution_count": null,
   "metadata": {},
   "outputs": [],
   "source": [
    "# Get the LIF neuron model function\n",
    "lif_model_func = neuron_models.LIFNeuron\n",
    "\n",
    "# Define parameters for our LIF neurons (optional, can use defaults)\n",
    "lif_params = {\n",
    "    'tau_m': 20*b2.ms,\n",
    "    'v_rest': -65*b2.mV,\n",
    "    'v_reset': -65*b2.mV,\n",
    "    'v_thresh': -50*b2.mV,\n",
    "    'R_m': 100*b2.Mohm, # Will be used if I_input is current\n",
    "    'refractory_period': 5*b2.ms\n",
    "}\n",
    "\n",
    "print(f\"LIF Model Parameters to be used: {lif_params}\")"
   ]
  },
  {
   "cell_type": "markdown",
   "metadata": {},
   "source": [
    "## 3. Instantiate the Organoid\n",
    "\n",
    "Now, we create an instance of the `Organoid` class. This object will hold all our neurons, synapses, and their properties."
   ]
  },
  {
   "cell_type": "code",
   "execution_count": null,
   "metadata": {},
   "outputs": [],
   "source": [
    "my_first_organoid = Organoid(name=\"MySimpleOrganoid\")\n",
    "print(my_first_organoid)"
   ]
  },
  {
   "cell_type": "markdown",
   "metadata": {},
   "source": [
    "## 4. Add a Neuronal Population\n",
    "\n",
    "We will add a single population of 100 LIF neurons to our organoid. We need to specify:\n",
    "- A unique name for this population (e.g., \"excitatory_neurons\").\n",
    "- The number of neurons.\n",
    "- The model name (string corresponding to the function in `neuron_models`).\n",
    "- The parameters for that model (which we defined above).\n",
    "- How the neurons are spatially distributed."
   ]
  },
  {
   "cell_type": "markdown",
   "metadata": {},
   "source": [
    "### 4.1. Define Spatial Distribution\n",
    "\n",
    "Let's place our neurons randomly within a small sphere using a function from `pybrainorg.organoid.spatial`."
   ]
  },
  {
   "cell_type": "code",
   "execution_count": null,
   "metadata": {},
   "outputs": [],
   "source": [
    "num_neurons_population1 = 100\n",
    "sphere_radius = 150*b2.um\n",
    "\n",
    "spatial_dist_func_name = \"random_positions_in_sphere\"\n",
    "spatial_params_dict = {\n",
    "    'N': num_neurons_population1, # This will be automatically set by Organoid.add_neurons too\n",
    "    'radius': sphere_radius,\n",
    "    'center': (0*b2.um, 0*b2.um, 0*b2.um)\n",
    "}\n",
    "\n",
    "# Alternatively, generate positions beforehand:\n",
    "# neuron_positions = spatial.random_positions_in_sphere(N=num_neurons_population1, radius=sphere_radius)\n",
    "# print(f\"Generated {len(neuron_positions)} positions.\")"
   ]
  },
  {
   "cell_type": "markdown",
   "metadata": {},
   "source": [
    "### 4.2. Add the Neuron Group to the Organoid"
   ]
  },
  {
   "cell_type": "code",
   "execution_count": null,
   "metadata": {},
   "outputs": [],
   "source": [
    "neuron_group_name = \"lif_population_1\"\n",
    "\n",
    "ng1 = my_first_organoid.add_neurons(\n",
    "    name=neuron_group_name,\n",
    "    num_neurons=num_neurons_population1,\n",
    "    model_name=\"LIFNeuron\", # Name of the function in neuron_models\n",
    "    model_params=lif_params,\n",
    "    # Option 1: Provide the function name and its parameters\n",
    "    spatial_distribution_func=spatial_dist_func_name,\n",
    "    spatial_params=spatial_params_dict,\n",
    "    # Option 2: Provide pre-generated positions (uncomment neuron_positions above and use this)\n",
    "    # positions=neuron_positions,\n",
    "    initial_values={'v': -70*b2.mV} # Set initial membrane potential for all neurons\n",
    ")\n",
    "\n",
    "print(f\"Added NeuronGroup: {ng1}\")\n",
    "print(f\"Organoid now contains: {my_first_organoid.neuron_groups.keys()}\")"
   ]
  },
  {
   "cell_type": "markdown",
   "metadata": {},
   "source": [
    "## 5. Visualize Neuron Positions\n",
    "\n",
    "Let's visualize the 3D positions of the neurons we just created."
   ]
  },
  {
   "cell_type": "code",
   "execution_count": null,
   "metadata": {},
   "outputs": [],
   "source": [
    "positions_ng1 = my_first_organoid.get_positions(neuron_group_name)\n",
    "\n",
    "fig = plt.figure(figsize=(7, 7))\n",
    "ax = fig.add_subplot(111, projection='3d')\n",
    "\n",
    "# Convert to a common unit (e.g., um) for plotting if necessary, and get scalar values\n",
    "x = positions_ng1[:, 0] / b2.um\n",
    "y = positions_ng1[:, 1] / b2.um\n",
    "z = positions_ng1[:, 2] / b2.um\n",
    "\n",
    "ax.scatter(x, y, z, s=10)\n",
    "\n",
    "ax.set_xlabel('X (µm)')\n",
    "ax.set_ylabel('Y (µm)')\n",
    "ax.set_zlabel('Z (µm)')\n",
    "ax.set_title(f'Neuron Positions in {neuron_group_name}')\n",
    "\n",
    "# Set equal aspect ratio for a better sphere visualization\n",
    "max_range = np.array([x.max()-x.min(), y.max()-y.min(), z.max()-z.min()]).max() / 2.0\n",
    "mid_x = (x.max()+x.min()) * 0.5\n",
    "mid_y = (y.max()+y.min()) * 0.5\n",
    "mid_z = (z.max()+z.min()) * 0.5\n",
    "ax.set_xlim(mid_x - max_range, mid_x + max_range)\n",
    "ax.set_ylim(mid_y - max_range, mid_y + max_range)\n",
    "ax.set_zlim(mid_z - max_range, mid_z + max_range)\n",
    "\n",
    "plt.show()"
   ]
  },
  {
   "cell_type": "markdown",
   "metadata": {},
   "source": [
    "## 6. (Optional) Adding a Second Population and Synapses\n",
    "\n",
    "For a more complete organoid, we would add more neuron populations (e.g., inhibitory) and define synaptic connections between them. Here's a brief look at how you might add synapses. We'll use a simple static conductance synapse model.\n",
    "\n",
    "*(This part is a preview; detailed synapse usage will be in later notebooks.)*"
   ]
  },
  {
   "cell_type": "code",
   "execution_count": null,
   "metadata": {},
   "outputs": [],
   "source": [
    "# Let's quickly add a smaller, second population (e.g., inhibitory)\n",
    "num_neurons_population2 = 20\n",
    "inhib_neuron_name = \"lif_population_2_inhib\"\n",
    "inhib_positions = spatial.random_positions_in_sphere(\n",
    "    N=num_neurons_population2, \n",
    "    radius=sphere_radius * 0.8, # Slightly smaller sphere for this group\n",
    "    center=(0*b2.um, 0*b2.um, 0*b2.um)\n",
    ")\n",
    "\n",
    "ng2 = my_first_organoid.add_neurons(\n",
    "    name=inhib_neuron_name,\n",
    "    num_neurons=num_neurons_population2,\n",
    "    model_name=\"LIFNeuron\", \n",
    "    model_params=lif_params, # Could use different params for inhib neurons\n",
    "    positions=inhib_positions,\n",
    "    initial_values={'v': -70*b2.mV}\n",
    ")\n",
    "print(f\"Added NeuronGroup: {ng2}\")\n",
    "\n",
    "# Define synapse model parameters\n",
    "# For this example, the postsynaptic neuron model (LIFNeuron) needs a variable \n",
    "# for the synaptic conductance, e.g., 'g_exc'. Let's assume our LIF model will be \n",
    "# extended to include this or we will inject current directly via synapses later.\n",
    "# For now, this is a conceptual setup.\n",
    "\n",
    "syn_model_name = \"StaticConductanceSynapse\"\n",
    "syn_params = {\n",
    "    'target_conductance_var': 'g_syn_input' # A placeholder, neuron model needs this variable\n",
    "}\n",
    "\n",
    "# Add synapses from ng1 to ng2 (e.g., excitatory to inhibitory)\n",
    "syn_e_to_i_name = \"syn_exc_to_inhib\"\n",
    "\n",
    "if hasattr(ng1, 'g_syn_input') and hasattr(ng2, 'g_syn_input'): # Simple check, actual model needs it\n",
    "    syn_e_to_i = my_first_organoid.add_synapses(\n",
    "        name=syn_e_to_i_name,\n",
    "        pre_group_name=neuron_group_name, # ng1\n",
    "        post_group_name=inhib_neuron_name, # ng2\n",
    "        model_name=syn_model_name,\n",
    "        model_params=syn_params,\n",
    "        connect_prob=0.1, # Connect with 10% probability\n",
    "        synaptic_params={'w_syn': 1.0*b2.nS} # Set the weight for these connections\n",
    "    )\n",
    "    print(f\"Added Synapses: {syn_e_to_i}\")\n",
    "    print(f\"Number of actual E->I synapses created: {len(syn_e_to_i)}\")\n",
    "else:\n",
    "    print(\"Skipping synapse creation as placeholder 'g_syn_input' is not in the basic LIF model yet.\")\n",
    "    print(\"This will be properly handled when neuron models explicitly include synaptic current terms.\")\n",
    "\n",
    "print(f\"Organoid now contains synapse groups: {my_first_organoid.synapses.keys()}\")"
   ]
  },
  {
   "cell_type": "markdown",
   "metadata": {},
   "source": [
    "## 7. Summary\n",
    "\n",
    "In this notebook, we've successfully:\n",
    "1. Imported necessary `pybrainorg` components.\n",
    "2. Defined parameters for a LIF neuron model.\n",
    "3. Created an `Organoid` instance.\n",
    "4. Added a population of neurons with a specific spatial distribution.\n",
    "5. Visualized the neuron positions.\n",
    "6. Briefly previewed how to add another population and synapses (conceptual at this stage for full integration).\n",
    "\n",
    "The next notebook will show how to simulate this organoid and record its activity."
   ]
  }
 ],
 "metadata": {
  "kernelspec": {
   "display_name": "Python 3 (ipykernel)",
   "language": "python",
   "name": "python3"
  },
  "language_info": {
   "codemirror_mode": {
    "name": "ipython",
    "version": 3
   },
   "file_extension": ".py",
   "mimetype": "text/x-python",
   "name": "python",
   "nbconvert_exporter": "python",
   "pygments_lexer": "ipython3",
   "version": "3.9.7"
  }
 },
 "nbformat": 4,
 "nbformat_minor": 5
}
