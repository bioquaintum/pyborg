{
 "cells": [
  {
   "cell_type": "markdown",
   "metadata": {},
   "source": [
    "# Installation and Setup for pybrainorg\n",
    "\n",
    "**Objective:** This notebook guides you through the installation of the `pybrainorg` library and its dependencies. It also includes a simple test at the end to verify that `pybrainorg` and its core dependency, Brian2, are functioning correctly.\n",
    "\n",
    "**Prerequisites:**\n",
    "- Python 3.7+ (Brian2 typically supports recent Python 3 versions)\n",
    "- `pip` (Python package installer)"
   ]
  },
  {
   "cell_type": "markdown",
   "metadata": {},
   "source": [
    "## 1. Understanding `pybrainorg`\n",
    "\n",
    "`pybrainorg` is a Python module designed for simulating brain organoids, leveraging the power and flexibility of the Brian2 spiking neural network simulator. It provides a structured framework to model neurons and synapses within organoids, simulate their development and activity, and interact with them using simulated Microelectrode Arrays (MEAs) and calcium imaging techniques."
   ]
  },
  {
   "cell_type": "markdown",
   "metadata": {},
   "source": [
    "## 2. Installation Options\n",
    "\n",
    "There are a couple of ways to install `pybrainorg`:"
   ]
  },
  {
   "cell_type": "markdown",
   "metadata": {},
   "source": [
    "### Option 2.1: Installing from a local clone (Recommended for development or if you have the source code)\n",
    "\n",
    "If you have cloned the `pybrainorg` repository from GitHub or have the source code folder:\n",
    "\n",
    "1.  **Navigate to the `pybrainorg` root directory in your terminal:**\n",
    "    This is the directory that contains the `setup.py` file.\n",
    "    ```bash\n",
    "    cd path/to/your/pybrainorg\n",
    "    ```\n",
    "\n",
    "2.  **(Recommended) Create and activate a virtual environment:**\n",
    "    This keeps your project dependencies isolated.\n",
    "    ```bash\n",
    "    python -m venv venv_pybrainorg\n",
    "    # On macOS/Linux:\n",
    "    source venv_pybrainorg/bin/activate\n",
    "    # On Windows:\n",
    "    .\\venv_pybrainorg\\Scripts\\activate\n",
    "    ```\n",
    "\n",
    "3.  **Install `pybrainorg` and its dependencies:**\n",
    "    The `-e` flag installs the package in \"editable\" mode, meaning changes you make to the source code will be immediately effective without needing to reinstall.\n",
    "    ```bash\n",
    "    pip install -e .\n",
    "    ```\n",
    "    This command will read the `setup.py` and `requirements.txt` files to install `pybrainorg` and all necessary libraries like Brian2, NumPy, Matplotlib, etc."
   ]
  },
  {
   "cell_type": "markdown",
   "metadata": {},
   "source": [
    "### Option 2.2: Installing from PyPI (If `pybrainorg` is published)\n",
    "\n",
    "If `pybrainorg` is (or will be) published on the Python Package Index (PyPI), you can install it directly using `pip`:\n",
    "\n",
    "```bash\n",
    "pip install pybrainorg\n",
    "```\n",
    "*(Note: This option is only valid once the package is actually available on PyPI.)*"
   ]
  },
  {
   "cell_type": "markdown",
   "metadata": {},
   "source": [
    "## 3. Core Dependencies\n",
    "\n",
    "`pybrainorg` relies on several key libraries:\n",
    "\n",
    "- **Brian2:** The core spiking neural network simulator.\n",
    "- **NumPy:** For numerical operations and array manipulation.\n",
    "- **Matplotlib:** For plotting and visualization.\n",
    "- **SciPy:** (Often a dependency of Brian2 or used for advanced analysis) For scientific and technical computing.\n",
    "\n",
    "These should be automatically installed when you install `pybrainorg` using `pip` (as they should be listed in `requirements.txt` and/or `install_requires` in `setup.py`)."
   ]
  },
  {
   "cell_type": "markdown",
   "metadata": {},
   "source": [
    "## 4. Verifying Installation (Python Code)\n",
    "\n",
    "After installation, you can verify that `pybrainorg` and its main dependency, Brian2, can be imported and are functioning. The following cells will attempt to do this."
   ]
  },
  {
   "cell_type": "markdown",
   "metadata": {},
   "source": [
    "### 4.1. Import Key Libraries\n",
    "\n",
    "Let's try importing `brian2` and the main `pybrainorg` package. If these imports work without error, it's a good first sign."
   ]
  },
  {
   "cell_type": "code",
   "execution_count": null,
   "metadata": {},
   "outputs": [],
   "source": [
    "print(\"Attempting to import Brian2...\")\n",
    "try:\n",
    "    import brian2 as b2\n",
    "    print(f\"Brian2 imported successfully! Version: {b2.__version__}\")\n",
    "except ImportError as e:\n",
    "    print(f\"Error importing Brian2: {e}\")\n",
    "    print(\"Please ensure Brian2 is installed correctly. It should be a dependency of pybrainorg.\")\n",
    "\n",
    "print(\"\\nAttempting to import pybrainorg...\")\n",
    "try:\n",
    "    import pybrainorg\n",
    "    # You might also want to try importing a submodule to be more thorough\n",
    "    from pybrainorg.core import neuron_models \n",
    "    print(f\"pybrainorg and pybrainorg.core.neuron_models imported successfully!\")\n",
    "    # If pybrainorg has a __version__ attribute (good practice to add one in pybrainorg/__init__.py)\n",
    "    # if hasattr(pybrainorg, '__version__'):\n",
    "    #     print(f\"pybrainorg version: {pybrainorg.__version__}\")\n",
    "except ImportError as e:\n",
    "    print(f\"Error importing pybrainorg: {e}\")\n",
    "    print(\"Please ensure pybrainorg is installed correctly (e.g., `pip install -e .` from the root directory) and you are in the correct Python environment.\")"
   ]
  },
  {
   "cell_type": "markdown",
   "metadata": {},
   "source": [
    "### 4.2. Quick Test: Creating a Simple Brian2 NeuronGroup via `pybrainorg`\n",
    "\n",
    "This test will use a predefined neuron model from `pybrainorg` to create a simple `NeuronGroup` using Brian2. This confirms that `pybrainorg`'s model definitions are compatible with Brian2 and that basic Brian2 operations are working.\n",
    "\n",
    "**Expected Outcome:**\n",
    "The code should run without errors and print information about the created `NeuronGroup` and a short simulation run."
   ]
  },
  {
   "cell_type": "code",
   "execution_count": null,
   "metadata": {},
   "outputs": [],
   "source": [
    "import numpy as np", 
    "print(\"\\nRunning a quick pybrainorg + Brian2 test...\")\n",
    "try:\n",
    "    # Ensure Brian2 and pybrainorg's neuron_models were imported successfully in the previous cell\n",
    "    if 'b2' not in locals() or 'neuron_models' not in locals():\n",
    "        raise RuntimeError(\"Brian2 or pybrainorg.core.neuron_models not imported. Cannot run test.\")\n",
    "\n",
    "    # 1. Get a neuron model definition from pybrainorg\n",
    "    print(\"\\n1. Fetching LIFNeuron model definition from pybrainorg.core.neuron_models...\")\n",
    "    lif_model_def = neuron_models.LIFNeuron(\n",
    "        tau_m=10*b2.ms, \n",
    "        v_rest=-60*b2.mV, \n",
    "        v_reset=-70*b2.mV, \n",
    "        v_thresh=-50*b2.mV\n",
    "    )\n",
    "    print(\"   LIFNeuron model definition fetched.\")\n",
    "\n",
    "    # 2. Create a Brian2 NeuronGroup using this definition\n",
    "    print(\"\\n2. Creating a Brian2 NeuronGroup...\")\n",
    "    N_test = 5\n",
    "    test_neurons = b2.NeuronGroup(\n",
    "        N_test,\n",
    "        model=lif_model_def['model'],\n",
    "        threshold=lif_model_def['threshold'],\n",
    "        reset=lif_model_def['reset'],\n",
    "        refractory=lif_model_def['refractory'],\n",
    "        method=lif_model_def['method'],\n",
    "        namespace=lif_model_def['namespace']\n",
    "    )\n",
    "    print(f\"   NeuronGroup created with {len(test_neurons)} neurons.\")\n",
    "\n",
    "    # 3. Set initial conditions and an input current to make them spike\n",
    "    print(\"\\n3. Setting initial conditions and input current...\")\n",
    "    # The LIFNeuron model expects 'I_input' to be defined (e.g., by synapses)\n",
    "    # or we can directly set it if it were a parameter. \n",
    "    # For this test, let's use the 'I_tonic_val' from the namespace, \n",
    "    # or add a constant current directly if LIFNeuron model_params allowed I_tonic.\n",
    "    # Modifying lif_model_def to include a default I_tonic for testing:\n",
    "    lif_model_def_test = neuron_models.LIFNeuron(\n",
    "        tau_m=10*b2.ms, v_rest=-60*b2.mV, v_reset=-70*b2.mV, \n",
    "        v_thresh=-50*b2.mV, I_tonic=0.15*b2.nA # Add tonic current\n",
    "    )\n",
    "    # Recreate group with tonic current\n",
    "    test_neurons_active = b2.NeuronGroup(\n",
    "        N_test,\n",
    "        model=lif_model_def_test['model'],\n",
    "        threshold=lif_model_def_test['threshold'],\n",
    "        reset=lif_model_def_test['reset'],\n",
    "        refractory=lif_model_def_test['refractory'],\n",
    "        method=lif_model_def_test['method'],\n",
    "        namespace=lif_model_def_test['namespace']\n",
    "    )\n",
    "    test_neurons_active.v = -70*b2.mV\n",
    "    print(\"   Initial conditions set. Tonic current should drive activity.\")\n",
    "\n",
    "    # 4. Setup a SpikeMonitor\n",
    "    print(\"\\n4. Setting up a SpikeMonitor...\")\n",
    "    spike_mon_test = b2.SpikeMonitor(test_neurons_active)\n",
    "    print(\"   SpikeMonitor created.\")\n",
    "\n",
    "    # 5. Create a Network and run for a short duration\n",
    "    print(\"\\n5. Creating a Brian2 Network and running simulation...\")\n",
    "    test_net = b2.Network(test_neurons_active, spike_mon_test)\n",
    "    # Set Brian2 preferences for this specific run if not globally set\n",
    "    b2.prefs.codegen.target = 'numpy' # For simple, non-compiled execution\n",
    "    test_net.run(50*b2.ms, report='text')\n",
    "    print(\"   Simulation run completed.\")\n",
    "\n",
    "    # 6. Check for spikes\n",
    "    print(\"\\n6. Checking results...\")\n",
    "    if len(spike_mon_test.i) > 0:\n",
    "        print(f\"   SUCCESS! {len(spike_mon_test.i)} spikes were recorded from {len(np.unique(spike_mon_test.i))} neurons.\")\n",
    "        print(f\"   Spike times: {spike_mon_test.t}\")\n",
    "    else:\n",
    "        print(\"   NOTE: No spikes were recorded. This might be okay if I_tonic was too low or parameters need adjustment for spiking.\")\n",
    "        print(\"   However, the fact that the simulation ran without Brian2 errors is a good sign.\")\n",
    "    \n",
    "    print(\"\\nQuick test finished successfully (simulation ran).\")\n",
    "\n",
    "except Exception as e:\n",
    "    print(f\"\\nAN ERROR OCCURRED DURING THE QUICK TEST: {e}\")\n",
    "    import traceback\n",
    "    traceback.print_exc()"
   ]
  },
  {
   "cell_type": "markdown",
   "metadata": {},
   "source": [
    "## 5. Next Steps\n",
    "\n",
    "If all the above steps, especially the quick test, completed without critical errors, your `pybrainorg` installation should be ready!\n",
    "\n",
    "You can now proceed to the next notebooks in the `examples/` directory to learn how to:\n",
    "- Create more complex organoids (`01_Creating_Your_First_Organoid.ipynb`).\n",
    "- Run simulations and record different types of data (`02_Running_a_Simple_Simulation_and_Recording_Spikes.ipynb`).\n",
    "- And much more!"
   ]
  }
 ],
 "metadata": {
  "kernelspec": {
   "display_name": "Python 3 (ipykernel)",
   "language": "python",
   "name": "python3"
  },
  "language_info": {
   "codemirror_mode": {
    "name": "ipython",
    "version": 3
   },
   "file_extension": ".py",
   "mimetype": "text/x-python",
   "name": "python",
   "nbconvert_exporter": "python",
   "pygments_lexer": "ipython3",
   "version": "3.9.7" 
  }
 },
 "nbformat": 4,
 "nbformat_minor": 5
}
